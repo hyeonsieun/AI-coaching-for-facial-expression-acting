{
 "cells": [
  {
   "cell_type": "code",
   "execution_count": 1,
   "id": "74aaf06b",
   "metadata": {
    "id": "74aaf06b",
    "scrolled": true
   },
   "outputs": [
    {
     "name": "stdout",
     "output_type": "stream",
     "text": [
      "importing Jupyter notebook from nlp_main_final.ipynb\n",
      "Requirement already satisfied: import_ipynb in c:\\users\\zxc26\\anaconda3\\envs\\ml\\lib\\site-packages (0.1.4)\n",
      "Requirement already satisfied: IPython in c:\\users\\zxc26\\anaconda3\\envs\\ml\\lib\\site-packages (from import_ipynb) (8.3.0)\n",
      "Requirement already satisfied: nbformat in c:\\users\\zxc26\\anaconda3\\envs\\ml\\lib\\site-packages (from import_ipynb) (5.3.0)\n",
      "Requirement already satisfied: backcall in c:\\users\\zxc26\\anaconda3\\envs\\ml\\lib\\site-packages (from IPython->import_ipynb) (0.2.0)\n",
      "Requirement already satisfied: prompt-toolkit!=3.0.0,!=3.0.1,<3.1.0,>=2.0.0 in c:\\users\\zxc26\\anaconda3\\envs\\ml\\lib\\site-packages (from IPython->import_ipynb) (3.0.20)\n",
      "Requirement already satisfied: colorama in c:\\users\\zxc26\\anaconda3\\envs\\ml\\lib\\site-packages (from IPython->import_ipynb) (0.4.5)\n",
      "Requirement already satisfied: stack-data in c:\\users\\zxc26\\anaconda3\\envs\\ml\\lib\\site-packages (from IPython->import_ipynb) (0.2.0)\n",
      "Requirement already satisfied: jedi>=0.16 in c:\\users\\zxc26\\anaconda3\\envs\\ml\\lib\\site-packages (from IPython->import_ipynb) (0.18.1)\n",
      "Requirement already satisfied: setuptools>=18.5 in c:\\users\\zxc26\\anaconda3\\envs\\ml\\lib\\site-packages (from IPython->import_ipynb) (61.2.0)\n",
      "Requirement already satisfied: matplotlib-inline in c:\\users\\zxc26\\anaconda3\\envs\\ml\\lib\\site-packages (from IPython->import_ipynb) (0.1.2)\n",
      "Requirement already satisfied: pygments>=2.4.0 in c:\\users\\zxc26\\anaconda3\\envs\\ml\\lib\\site-packages (from IPython->import_ipynb) (2.11.2)\n",
      "Requirement already satisfied: decorator in c:\\users\\zxc26\\anaconda3\\envs\\ml\\lib\\site-packages (from IPython->import_ipynb) (5.1.1)\n",
      "Requirement already satisfied: pickleshare in c:\\users\\zxc26\\anaconda3\\envs\\ml\\lib\\site-packages (from IPython->import_ipynb) (0.7.5)\n",
      "Requirement already satisfied: traitlets>=5 in c:\\users\\zxc26\\anaconda3\\envs\\ml\\lib\\site-packages (from IPython->import_ipynb) (5.1.1)\n",
      "Requirement already satisfied: parso<0.9.0,>=0.8.0 in c:\\users\\zxc26\\anaconda3\\envs\\ml\\lib\\site-packages (from jedi>=0.16->IPython->import_ipynb) (0.8.3)\n",
      "Requirement already satisfied: wcwidth in c:\\users\\zxc26\\anaconda3\\envs\\ml\\lib\\site-packages (from prompt-toolkit!=3.0.0,!=3.0.1,<3.1.0,>=2.0.0->IPython->import_ipynb) (0.2.5)\n",
      "Requirement already satisfied: jsonschema>=2.6 in c:\\users\\zxc26\\anaconda3\\envs\\ml\\lib\\site-packages (from nbformat->import_ipynb) (4.4.0)\n",
      "Requirement already satisfied: jupyter-core in c:\\users\\zxc26\\anaconda3\\envs\\ml\\lib\\site-packages (from nbformat->import_ipynb) (4.10.0)\n",
      "Requirement already satisfied: fastjsonschema in c:\\users\\zxc26\\anaconda3\\envs\\ml\\lib\\site-packages (from nbformat->import_ipynb) (2.15.1)\n",
      "Requirement already satisfied: pyrsistent!=0.17.0,!=0.17.1,!=0.17.2,>=0.14.0 in c:\\users\\zxc26\\anaconda3\\envs\\ml\\lib\\site-packages (from jsonschema>=2.6->nbformat->import_ipynb) (0.18.0)\n",
      "Requirement already satisfied: importlib-resources>=1.4.0 in c:\\users\\zxc26\\anaconda3\\envs\\ml\\lib\\site-packages (from jsonschema>=2.6->nbformat->import_ipynb) (5.2.0)\n",
      "Requirement already satisfied: attrs>=17.4.0 in c:\\users\\zxc26\\anaconda3\\envs\\ml\\lib\\site-packages (from jsonschema>=2.6->nbformat->import_ipynb) (21.4.0)\n",
      "Requirement already satisfied: zipp>=3.1.0 in c:\\users\\zxc26\\anaconda3\\envs\\ml\\lib\\site-packages (from importlib-resources>=1.4.0->jsonschema>=2.6->nbformat->import_ipynb) (3.8.0)\n",
      "Requirement already satisfied: pywin32>=1.0 in c:\\users\\zxc26\\anaconda3\\envs\\ml\\lib\\site-packages (from jupyter-core->nbformat->import_ipynb) (302)\n",
      "Requirement already satisfied: asttokens in c:\\users\\zxc26\\anaconda3\\envs\\ml\\lib\\site-packages (from stack-data->IPython->import_ipynb) (2.0.5)\n",
      "Requirement already satisfied: pure-eval in c:\\users\\zxc26\\anaconda3\\envs\\ml\\lib\\site-packages (from stack-data->IPython->import_ipynb) (0.2.2)\n",
      "Requirement already satisfied: executing in c:\\users\\zxc26\\anaconda3\\envs\\ml\\lib\\site-packages (from stack-data->IPython->import_ipynb) (0.8.3)\n",
      "Requirement already satisfied: six in c:\\users\\zxc26\\anaconda3\\envs\\ml\\lib\\site-packages (from asttokens->stack-data->IPython->import_ipynb) (1.16.0)\n"
     ]
    },
    {
     "name": "stderr",
     "output_type": "stream",
     "text": [
      "WARNING: Ignoring invalid distribution -umpy (c:\\users\\zxc26\\anaconda3\\envs\\ml\\lib\\site-packages)\n",
      "WARNING: Ignoring invalid distribution -umpy (c:\\users\\zxc26\\anaconda3\\envs\\ml\\lib\\site-packages)\n",
      "WARNING: Ignoring invalid distribution -umpy (c:\\users\\zxc26\\anaconda3\\envs\\ml\\lib\\site-packages)\n",
      "WARNING: Ignoring invalid distribution -umpy (c:\\users\\zxc26\\anaconda3\\envs\\ml\\lib\\site-packages)\n",
      "WARNING: Ignoring invalid distribution -umpy (c:\\users\\zxc26\\anaconda3\\envs\\ml\\lib\\site-packages)\n",
      "WARNING: Ignoring invalid distribution -umpy (c:\\users\\zxc26\\anaconda3\\envs\\ml\\lib\\site-packages)\n"
     ]
    },
    {
     "name": "stdout",
     "output_type": "stream",
     "text": [
      "importing Jupyter notebook from nlp_Preproc_final.ipynb\n",
      "Requirement already satisfied: mxnet in c:\\users\\zxc26\\anaconda3\\envs\\ml\\lib\\site-packages (1.7.0.post2)\n",
      "Requirement already satisfied: requests<2.19.0,>=2.18.4 in c:\\users\\zxc26\\anaconda3\\envs\\ml\\lib\\site-packages (from mxnet) (2.18.4)"
     ]
    },
    {
     "name": "stderr",
     "output_type": "stream",
     "text": [
      "WARNING: Ignoring invalid distribution -umpy (c:\\users\\zxc26\\anaconda3\\envs\\ml\\lib\\site-packages)\n",
      "WARNING: Ignoring invalid distribution -umpy (c:\\users\\zxc26\\anaconda3\\envs\\ml\\lib\\site-packages)\n",
      "WARNING: Ignoring invalid distribution -umpy (c:\\users\\zxc26\\anaconda3\\envs\\ml\\lib\\site-packages)\n",
      "    WARNING: Ignoring invalid distribution -umpy (c:\\users\\zxc26\\anaconda3\\envs\\ml\\lib\\site-packages)\n",
      "ERROR: Could not install packages due to an OSError: [WinError 5] 액세스가 거부되었습니다: 'C:\\\\Users\\\\zxc26\\\\anaconda3\\\\envs\\\\ml\\\\Lib\\\\site-packages\\\\numpy\\\\~2ibs\\\\libopenblas.FB5AE2TYXYH2IJRDKGDGQ3XBKLKTF43H.gfortran-win_amd64.dll'\n",
      "Consider using the `--user` option or check the permissions.\n",
      "\n",
      "WARNING: Ignoring invalid distribution -umpy (c:\\users\\zxc26\\anaconda3\\envs\\ml\\lib\\site-packages)\n",
      "WARNING: Ignoring invalid distribution -umpy (c:\\users\\zxc26\\anaconda3\\envs\\ml\\lib\\site-packages)\n",
      "WARNING: Ignoring invalid distribution -umpy (c:\\users\\zxc26\\anaconda3\\envs\\ml\\lib\\site-packages)\n"
     ]
    },
    {
     "name": "stdout",
     "output_type": "stream",
     "text": [
      "\n",
      "Collecting numpy<1.17.0,>=1.8.2\n",
      "  Using cached numpy-1.16.6-cp38-cp38-win_amd64.whl\n",
      "Requirement already satisfied: graphviz<0.9.0,>=0.8.1 in c:\\users\\zxc26\\anaconda3\\envs\\ml\\lib\\site-packages (from mxnet) (0.8.4)\n",
      "Requirement already satisfied: urllib3<1.23,>=1.21.1 in c:\\users\\zxc26\\anaconda3\\envs\\ml\\lib\\site-packages (from requests<2.19.0,>=2.18.4->mxnet) (1.22)\n",
      "Requirement already satisfied: idna<2.7,>=2.5 in c:\\users\\zxc26\\anaconda3\\envs\\ml\\lib\\site-packages (from requests<2.19.0,>=2.18.4->mxnet) (2.6)\n",
      "Requirement already satisfied: chardet<3.1.0,>=3.0.2 in c:\\users\\zxc26\\anaconda3\\envs\\ml\\lib\\site-packages (from requests<2.19.0,>=2.18.4->mxnet) (3.0.4)\n",
      "Requirement already satisfied: certifi>=2017.4.17 in c:\\users\\zxc26\\anaconda3\\envs\\ml\\lib\\site-packages (from requests<2.19.0,>=2.18.4->mxnet) (2022.6.15)\n",
      "Installing collected packages: numpy\n",
      "  Attempting uninstall: numpy\n",
      "    Found existing installation: numpy 1.23.2\n",
      "    Uninstalling numpy-1.23.2:\n",
      "      Successfully uninstalled numpy-1.23.2\n",
      "Requirement already satisfied: gluonnlp in c:\\users\\zxc26\\anaconda3\\envs\\ml\\lib\\site-packages (0.10.0)\n",
      "Requirement already satisfied: pandas in c:\\users\\zxc26\\anaconda3\\envs\\ml\\lib\\site-packages (1.4.2)\n",
      "Requirement already satisfied: tqdm in c:\\users\\zxc26\\anaconda3\\envs\\ml\\lib\\site-packages (4.64.0)\n",
      "Requirement already satisfied: packaging in c:\\users\\zxc26\\anaconda3\\envs\\ml\\lib\\site-packages (from gluonnlp) (21.3)\n"
     ]
    },
    {
     "name": "stderr",
     "output_type": "stream",
     "text": [
      "WARNING: Ignoring invalid distribution -umpy (c:\\users\\zxc26\\anaconda3\\envs\\ml\\lib\\site-packages)\n",
      "WARNING: Ignoring invalid distribution -umpy (c:\\users\\zxc26\\anaconda3\\envs\\ml\\lib\\site-packages)\n",
      "WARNING: Ignoring invalid distribution -umpy (c:\\users\\zxc26\\anaconda3\\envs\\ml\\lib\\site-packages)\n",
      "    WARNING: Ignoring invalid distribution -umpy (c:\\users\\zxc26\\anaconda3\\envs\\ml\\lib\\site-packages)\n",
      "WARNING: Ignoring invalid distribution -umpy (c:\\users\\zxc26\\anaconda3\\envs\\ml\\lib\\site-packages)\n",
      "ERROR: pip's dependency resolver does not currently take into account all the packages that are installed. This behaviour is the source of the following dependency conflicts.\n",
      "tensorboard 2.9.1 requires requests<3,>=2.21.0, but you have requests 2.18.4 which is incompatible.\n",
      "scipy 1.7.3 requires numpy<1.23.0,>=1.16.5, but you have numpy 1.23.2 which is incompatible.\n",
      "numba 0.55.1 requires numpy<1.22,>=1.18, but you have numpy 1.23.2 which is incompatible.\n",
      "mxnet 1.7.0.post2 requires numpy<1.17.0,>=1.8.2, but you have numpy 1.23.2 which is incompatible.\n",
      "WARNING: Ignoring invalid distribution -umpy (c:\\users\\zxc26\\anaconda3\\envs\\ml\\lib\\site-packages)\n",
      "WARNING: Ignoring invalid distribution -umpy (c:\\users\\zxc26\\anaconda3\\envs\\ml\\lib\\site-packages)\n",
      "WARNING: Ignoring invalid distribution -umpy (c:\\users\\zxc26\\anaconda3\\envs\\ml\\lib\\site-packages)\n"
     ]
    },
    {
     "name": "stdout",
     "output_type": "stream",
     "text": [
      "Requirement already satisfied: numpy>=1.16.0 in c:\\users\\zxc26\\anaconda3\\envs\\ml\\lib\\site-packages (from gluonnlp) (1.16.6)\n",
      "Requirement already satisfied: cython in c:\\users\\zxc26\\anaconda3\\envs\\ml\\lib\\site-packages (from gluonnlp) (0.29.28)\n",
      "Collecting numpy>=1.16.0\n",
      "  Using cached numpy-1.23.2-cp38-cp38-win_amd64.whl (14.7 MB)\n",
      "Requirement already satisfied: pytz>=2020.1 in c:\\users\\zxc26\\anaconda3\\envs\\ml\\lib\\site-packages (from pandas) (2022.1)\n",
      "Requirement already satisfied: python-dateutil>=2.8.1 in c:\\users\\zxc26\\anaconda3\\envs\\ml\\lib\\site-packages (from pandas) (2.8.2)\n",
      "Requirement already satisfied: colorama in c:\\users\\zxc26\\anaconda3\\envs\\ml\\lib\\site-packages (from tqdm) (0.4.5)\n",
      "Requirement already satisfied: six>=1.5 in c:\\users\\zxc26\\anaconda3\\envs\\ml\\lib\\site-packages (from python-dateutil>=2.8.1->pandas) (1.16.0)\n",
      "Requirement already satisfied: pyparsing!=3.0.5,>=2.0.2 in c:\\users\\zxc26\\anaconda3\\envs\\ml\\lib\\site-packages (from packaging->gluonnlp) (3.0.4)\n",
      "Installing collected packages: numpy\n",
      "  Attempting uninstall: numpy\n",
      "    Found existing installation: numpy 1.16.6\n",
      "    Uninstalling numpy-1.16.6:\n",
      "      Successfully uninstalled numpy-1.16.6\n",
      "Successfully installed numpy-1.23.2\n",
      "Requirement already satisfied: sentencepiece in c:\\users\\zxc26\\anaconda3\\envs\\ml\\lib\\site-packages (0.1.97)"
     ]
    },
    {
     "name": "stderr",
     "output_type": "stream",
     "text": [
      "WARNING: Ignoring invalid distribution -umpy (c:\\users\\zxc26\\anaconda3\\envs\\ml\\lib\\site-packages)\n",
      "WARNING: Ignoring invalid distribution -umpy (c:\\users\\zxc26\\anaconda3\\envs\\ml\\lib\\site-packages)\n",
      "WARNING: Ignoring invalid distribution -umpy (c:\\users\\zxc26\\anaconda3\\envs\\ml\\lib\\site-packages)\n",
      "WARNING: Ignoring invalid distribution -umpy (c:\\users\\zxc26\\anaconda3\\envs\\ml\\lib\\site-packages)\n",
      "WARNING: Ignoring invalid distribution -umpy (c:\\users\\zxc26\\anaconda3\\envs\\ml\\lib\\site-packages)\n",
      "WARNING: Ignoring invalid distribution -umpy (c:\\users\\zxc26\\anaconda3\\envs\\ml\\lib\\site-packages)\n"
     ]
    },
    {
     "name": "stdout",
     "output_type": "stream",
     "text": [
      "\n",
      "Requirement already satisfied: transformers==3.0.2 in c:\\users\\zxc26\\anaconda3\\envs\\ml\\lib\\site-packages (3.0.2)\n",
      "Requirement already satisfied: numpy in c:\\users\\zxc26\\anaconda3\\envs\\ml\\lib\\site-packages (from transformers==3.0.2) (1.23.2)\n",
      "Requirement already satisfied: tokenizers==0.8.1.rc1 in c:\\users\\zxc26\\anaconda3\\envs\\ml\\lib\\site-packages (from transformers==3.0.2) (0.8.1rc1)\n",
      "Requirement already satisfied: sentencepiece!=0.1.92 in c:\\users\\zxc26\\anaconda3\\envs\\ml\\lib\\site-packages (from transformers==3.0.2) (0.1.97)\n",
      "Requirement already satisfied: filelock in c:\\users\\zxc26\\anaconda3\\envs\\ml\\lib\\site-packages (from transformers==3.0.2) (3.8.0)\n",
      "Requirement already satisfied: requests in c:\\users\\zxc26\\anaconda3\\envs\\ml\\lib\\site-packages (from transformers==3.0.2) (2.18.4)\n",
      "Requirement already satisfied: tqdm>=4.27 in c:\\users\\zxc26\\anaconda3\\envs\\ml\\lib\\site-packages (from transformers==3.0.2) (4.64.0)\n",
      "Requirement already satisfied: packaging in c:\\users\\zxc26\\anaconda3\\envs\\ml\\lib\\site-packages (from transformers==3.0.2) (21.3)\n",
      "Requirement already satisfied: regex!=2019.12.17 in c:\\users\\zxc26\\anaconda3\\envs\\ml\\lib\\site-packages (from transformers==3.0.2) (2022.7.25)\n",
      "Requirement already satisfied: sacremoses in c:\\users\\zxc26\\anaconda3\\envs\\ml\\lib\\site-packages (from transformers==3.0.2) (0.0.53)\n",
      "Requirement already satisfied: colorama in c:\\users\\zxc26\\anaconda3\\envs\\ml\\lib\\site-packages (from tqdm>=4.27->transformers==3.0.2) (0.4.5)\n",
      "Requirement already satisfied: pyparsing!=3.0.5,>=2.0.2 in c:\\users\\zxc26\\anaconda3\\envs\\ml\\lib\\site-packages (from packaging->transformers==3.0.2) (3.0.4)\n",
      "Requirement already satisfied: chardet<3.1.0,>=3.0.2 in c:\\users\\zxc26\\anaconda3\\envs\\ml\\lib\\site-packages (from requests->transformers==3.0.2) (3.0.4)\n",
      "Requirement already satisfied: idna<2.7,>=2.5 in c:\\users\\zxc26\\anaconda3\\envs\\ml\\lib\\site-packages (from requests->transformers==3.0.2) (2.6)\n",
      "Requirement already satisfied: urllib3<1.23,>=1.21.1 in c:\\users\\zxc26\\anaconda3\\envs\\ml\\lib\\site-packages (from requests->transformers==3.0.2) (1.22)\n",
      "Requirement already satisfied: certifi>=2017.4.17 in c:\\users\\zxc26\\anaconda3\\envs\\ml\\lib\\site-packages (from requests->transformers==3.0.2) (2022.6.15)\n",
      "Requirement already satisfied: click in c:\\users\\zxc26\\anaconda3\\envs\\ml\\lib\\site-packages (from sacremoses->transformers==3.0.2) (8.1.3)\n",
      "Requirement already satisfied: six in c:\\users\\zxc26\\anaconda3\\envs\\ml\\lib\\site-packages (from sacremoses->transformers==3.0.2) (1.16.0)\n",
      "Requirement already satisfied: joblib in c:\\users\\zxc26\\anaconda3\\envs\\ml\\lib\\site-packages (from sacremoses->transformers==3.0.2) (1.1.0)\n"
     ]
    },
    {
     "name": "stderr",
     "output_type": "stream",
     "text": [
      "WARNING: Ignoring invalid distribution -umpy (c:\\users\\zxc26\\anaconda3\\envs\\ml\\lib\\site-packages)\n",
      "WARNING: Ignoring invalid distribution -umpy (c:\\users\\zxc26\\anaconda3\\envs\\ml\\lib\\site-packages)\n",
      "WARNING: Ignoring invalid distribution -umpy (c:\\users\\zxc26\\anaconda3\\envs\\ml\\lib\\site-packages)\n",
      "WARNING: Ignoring invalid distribution -umpy (c:\\users\\zxc26\\anaconda3\\envs\\ml\\lib\\site-packages)\n",
      "WARNING: Ignoring invalid distribution -umpy (c:\\users\\zxc26\\anaconda3\\envs\\ml\\lib\\site-packages)\n",
      "WARNING: Ignoring invalid distribution -umpy (c:\\users\\zxc26\\anaconda3\\envs\\ml\\lib\\site-packages)\n",
      "WARNING: Ignoring invalid distribution -umpy (c:\\users\\zxc26\\anaconda3\\envs\\ml\\lib\\site-packages)\n",
      "WARNING: Ignoring invalid distribution -umpy (c:\\users\\zxc26\\anaconda3\\envs\\ml\\lib\\site-packages)\n",
      "WARNING: Ignoring invalid distribution -umpy (c:\\users\\zxc26\\anaconda3\\envs\\ml\\lib\\site-packages)\n",
      "WARNING: Ignoring invalid distribution -umpy (c:\\users\\zxc26\\anaconda3\\envs\\ml\\lib\\site-packages)\n",
      "WARNING: Ignoring invalid distribution -umpy (c:\\users\\zxc26\\anaconda3\\envs\\ml\\lib\\site-packages)\n",
      "WARNING: Ignoring invalid distribution -umpy (c:\\users\\zxc26\\anaconda3\\envs\\ml\\lib\\site-packages)\n"
     ]
    },
    {
     "name": "stdout",
     "output_type": "stream",
     "text": [
      "Requirement already satisfied: torch in c:\\users\\zxc26\\anaconda3\\envs\\ml\\lib\\site-packages (1.12.0)\n",
      "Requirement already satisfied: typing_extensions in c:\\users\\zxc26\\anaconda3\\envs\\ml\\lib\\site-packages (from torch) (4.1.1)\n"
     ]
    },
    {
     "name": "stderr",
     "output_type": "stream",
     "text": [
      "C:\\Users\\zxc26\\anaconda3\\envs\\ml\\lib\\site-packages\\scipy\\__init__.py:146: UserWarning: A NumPy version >=1.16.5 and <1.23.0 is required for this version of SciPy (detected version 1.23.2\n",
      "  warnings.warn(f\"A NumPy version >={np_minversion} and <{np_maxversion}\"\n"
     ]
    },
    {
     "name": "stdout",
     "output_type": "stream",
     "text": [
      "2.9.1\n",
      "importing Jupyter notebook from nlp_model_final.ipynb\n"
     ]
    },
    {
     "name": "stderr",
     "output_type": "stream",
     "text": [
      "WARNING: Ignoring invalid distribution -umpy (c:\\users\\zxc26\\anaconda3\\envs\\ml\\lib\\site-packages)\n",
      "WARNING: Ignoring invalid distribution -umpy (c:\\users\\zxc26\\anaconda3\\envs\\ml\\lib\\site-packages)\n",
      "WARNING: Ignoring invalid distribution -umpy (c:\\users\\zxc26\\anaconda3\\envs\\ml\\lib\\site-packages)\n",
      "WARNING: Ignoring invalid distribution -umpy (c:\\users\\zxc26\\anaconda3\\envs\\ml\\lib\\site-packages)\n",
      "WARNING: Ignoring invalid distribution -umpy (c:\\users\\zxc26\\anaconda3\\envs\\ml\\lib\\site-packages)\n",
      "WARNING: Ignoring invalid distribution -umpy (c:\\users\\zxc26\\anaconda3\\envs\\ml\\lib\\site-packages)\n",
      "WARNING: Ignoring invalid distribution -umpy (c:\\users\\zxc26\\anaconda3\\envs\\ml\\lib\\site-packages)\n",
      "WARNING: Ignoring invalid distribution -umpy (c:\\users\\zxc26\\anaconda3\\envs\\ml\\lib\\site-packages)\n",
      "WARNING: Ignoring invalid distribution -umpy (c:\\users\\zxc26\\anaconda3\\envs\\ml\\lib\\site-packages)\n",
      "WARNING: Ignoring invalid distribution -umpy (c:\\users\\zxc26\\anaconda3\\envs\\ml\\lib\\site-packages)\n",
      "WARNING: Ignoring invalid distribution -umpy (c:\\users\\zxc26\\anaconda3\\envs\\ml\\lib\\site-packages)\n",
      "WARNING: Ignoring invalid distribution -umpy (c:\\users\\zxc26\\anaconda3\\envs\\ml\\lib\\site-packages)\n"
     ]
    },
    {
     "name": "stdout",
     "output_type": "stream",
     "text": [
      "Requirement already satisfied: transformers==3.0.2 in c:\\users\\zxc26\\anaconda3\\envs\\ml\\lib\\site-packages (3.0.2)\n",
      "Requirement already satisfied: requests in c:\\users\\zxc26\\anaconda3\\envs\\ml\\lib\\site-packages (from transformers==3.0.2) (2.18.4)\n",
      "Requirement already satisfied: sentencepiece!=0.1.92 in c:\\users\\zxc26\\anaconda3\\envs\\ml\\lib\\site-packages (from transformers==3.0.2) (0.1.97)\n",
      "Requirement already satisfied: packaging in c:\\users\\zxc26\\anaconda3\\envs\\ml\\lib\\site-packages (from transformers==3.0.2) (21.3)\n",
      "Requirement already satisfied: tokenizers==0.8.1.rc1 in c:\\users\\zxc26\\anaconda3\\envs\\ml\\lib\\site-packages (from transformers==3.0.2) (0.8.1rc1)\n",
      "Requirement already satisfied: tqdm>=4.27 in c:\\users\\zxc26\\anaconda3\\envs\\ml\\lib\\site-packages (from transformers==3.0.2) (4.64.0)\n",
      "Requirement already satisfied: numpy in c:\\users\\zxc26\\anaconda3\\envs\\ml\\lib\\site-packages (from transformers==3.0.2) (1.23.2)\n",
      "Requirement already satisfied: filelock in c:\\users\\zxc26\\anaconda3\\envs\\ml\\lib\\site-packages (from transformers==3.0.2) (3.8.0)\n",
      "Requirement already satisfied: sacremoses in c:\\users\\zxc26\\anaconda3\\envs\\ml\\lib\\site-packages (from transformers==3.0.2) (0.0.53)\n",
      "Requirement already satisfied: regex!=2019.12.17 in c:\\users\\zxc26\\anaconda3\\envs\\ml\\lib\\site-packages (from transformers==3.0.2) (2022.7.25)\n",
      "Requirement already satisfied: colorama in c:\\users\\zxc26\\anaconda3\\envs\\ml\\lib\\site-packages (from tqdm>=4.27->transformers==3.0.2) (0.4.5)\n",
      "Requirement already satisfied: pyparsing!=3.0.5,>=2.0.2 in c:\\users\\zxc26\\anaconda3\\envs\\ml\\lib\\site-packages (from packaging->transformers==3.0.2) (3.0.4)\n",
      "Requirement already satisfied: idna<2.7,>=2.5 in c:\\users\\zxc26\\anaconda3\\envs\\ml\\lib\\site-packages (from requests->transformers==3.0.2) (2.6)\n",
      "Requirement already satisfied: urllib3<1.23,>=1.21.1 in c:\\users\\zxc26\\anaconda3\\envs\\ml\\lib\\site-packages (from requests->transformers==3.0.2) (1.22)\n",
      "Requirement already satisfied: chardet<3.1.0,>=3.0.2 in c:\\users\\zxc26\\anaconda3\\envs\\ml\\lib\\site-packages (from requests->transformers==3.0.2) (3.0.4)\n",
      "Requirement already satisfied: certifi>=2017.4.17 in c:\\users\\zxc26\\anaconda3\\envs\\ml\\lib\\site-packages (from requests->transformers==3.0.2) (2022.6.15)\n",
      "Requirement already satisfied: click in c:\\users\\zxc26\\anaconda3\\envs\\ml\\lib\\site-packages (from sacremoses->transformers==3.0.2) (8.1.3)\n",
      "Requirement already satisfied: joblib in c:\\users\\zxc26\\anaconda3\\envs\\ml\\lib\\site-packages (from sacremoses->transformers==3.0.2) (1.1.0)\n",
      "Requirement already satisfied: six in c:\\users\\zxc26\\anaconda3\\envs\\ml\\lib\\site-packages (from sacremoses->transformers==3.0.2) (1.16.0)\n"
     ]
    },
    {
     "name": "stderr",
     "output_type": "stream",
     "text": [
      "Some weights of BertForSequenceClassification were not initialized from the model checkpoint at monologg/kobert and are newly initialized: ['classifier.bias', 'classifier.weight']\n",
      "You should probably TRAIN this model on a down-stream task to be able to use it for predictions and inference.\n"
     ]
    },
    {
     "name": "stdout",
     "output_type": "stream",
     "text": [
      "importing Jupyter notebook from vision_main_final.ipynb\n",
      "importing Jupyter notebook from vision_model_final.ipynb\n"
     ]
    },
    {
     "name": "stderr",
     "output_type": "stream",
     "text": [
      "WARNING: Ignoring invalid distribution -umpy (c:\\users\\zxc26\\anaconda3\\envs\\ml\\lib\\site-packages)\n",
      "WARNING: Ignoring invalid distribution -umpy (c:\\users\\zxc26\\anaconda3\\envs\\ml\\lib\\site-packages)\n",
      "WARNING: Ignoring invalid distribution -umpy (c:\\users\\zxc26\\anaconda3\\envs\\ml\\lib\\site-packages)\n",
      "WARNING: Ignoring invalid distribution -umpy (c:\\users\\zxc26\\anaconda3\\envs\\ml\\lib\\site-packages)\n",
      "WARNING: Ignoring invalid distribution -umpy (c:\\users\\zxc26\\anaconda3\\envs\\ml\\lib\\site-packages)\n",
      "WARNING: Ignoring invalid distribution -umpy (c:\\users\\zxc26\\anaconda3\\envs\\ml\\lib\\site-packages)\n"
     ]
    },
    {
     "name": "stdout",
     "output_type": "stream",
     "text": [
      "Requirement already satisfied: torchsummary in c:\\users\\zxc26\\anaconda3\\envs\\ml\\lib\\site-packages (1.5.1)\n"
     ]
    }
   ],
   "source": [
    "import import_ipynb\n",
    "from nlp_main_final import predict_sentence\n",
    "from vision_main_final import predict_video\n",
    "import numpy as np"
   ]
  },
  {
   "cell_type": "code",
   "execution_count": null,
   "id": "f3b4de2c",
   "metadata": {
    "id": "f3b4de2c",
    "scrolled": true
   },
   "outputs": [
    {
     "name": "stdout",
     "output_type": "stream",
     "text": [
      "하고싶은 말을 입력해주세요 : 행복하다\n"
     ]
    },
    {
     "name": "stderr",
     "output_type": "stream",
     "text": [
      "<string>:9: UserWarning: Creating a tensor from a list of numpy.ndarrays is extremely slow. Please consider converting the list to a single numpy.ndarray with numpy.array() before converting to a tensor. (Triggered internally at  C:\\cb\\pytorch_1000000000000\\work\\torch\\csrc\\utils\\tensor_new.cpp:204.)\n",
      "<string>:20: UserWarning: Implicit dimension choice for softmax has been deprecated. Change the call to include dim=X as an argument.\n",
      "<string>:98: UserWarning: Implicit dimension choice for softmax has been deprecated. Change the call to include dim=X as an argument.\n"
     ]
    },
    {
     "name": "stdout",
     "output_type": "stream",
     "text": [
      "\n",
      "\n",
      "하고싶은 말을 입력해주세요 : 슬프다\n",
      "\n",
      "\n",
      "하고싶은 말을 입력해주세요 : 혐오스럽다\n",
      "\n",
      "\n",
      "하고싶은 말을 입력해주세요 : 화가 난다\n",
      "\n",
      "\n",
      "하고싶은 말을 입력해주세요 : 니가 가라 하와이\n",
      "\n",
      "\n",
      "하고싶은 말을 입력해주세요 : 꼭 그렇게 다 가져가야만 속이 후련했냐!!!!!\n",
      "\n",
      "\n"
     ]
    }
   ],
   "source": [
    "while True:\n",
    "    sentence = input(\"하고싶은 말을 입력해주세요 : \")\n",
    "    if sentence == \"0\":\n",
    "        break\n",
    "    predict = predict_sentence(sentence).squeeze().cpu().detach().numpy()\n",
    "    predict_video(predict, sentence)\n",
    "    print(\"\\n\")"
   ]
  },
  {
   "cell_type": "code",
   "execution_count": null,
   "id": "12d75ff8",
   "metadata": {},
   "outputs": [],
   "source": []
  }
 ],
 "metadata": {
  "colab": {
   "collapsed_sections": [],
   "name": "main_stream_final.ipynb",
   "provenance": []
  },
  "kernelspec": {
   "display_name": "Python 3 (ipykernel)",
   "language": "python",
   "name": "python3"
  },
  "language_info": {
   "codemirror_mode": {
    "name": "ipython",
    "version": 3
   },
   "file_extension": ".py",
   "mimetype": "text/x-python",
   "name": "python",
   "nbconvert_exporter": "python",
   "pygments_lexer": "ipython3",
   "version": "3.8.13"
  }
 },
 "nbformat": 4,
 "nbformat_minor": 5
}
